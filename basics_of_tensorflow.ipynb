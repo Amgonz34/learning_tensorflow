{
 "cells": [
  {
   "cell_type": "markdown",
   "metadata": {},
   "source": [
    "# Covering the basics of tensorflow and and funamental concepts of tensors\n",
    "\n",
    "This notebook will cover:\n",
    "* Into to tensors\n",
    "* getting info from tensors\n",
    "* manipulating tensors\n",
    "* tensors & numpy\n",
    "* using @tf.function\n",
    "* use GPUS with TF\n",
    "* additional practice of the above "
   ]
  },
  {
   "cell_type": "markdown",
   "metadata": {},
   "source": [
    "# intro to tensors"
   ]
  },
  {
   "cell_type": "code",
   "execution_count": 1,
   "metadata": {},
   "outputs": [
    {
     "name": "stdout",
     "output_type": "stream",
     "text": [
      "2.3.1\n"
     ]
    }
   ],
   "source": [
    "# import tensorflow\n",
    "import tensorflow as tf\n",
    "print(tf.__version__)"
   ]
  },
  {
   "cell_type": "markdown",
   "metadata": {},
   "source": [
    "### create tensors with tf.constant()"
   ]
  },
  {
   "cell_type": "code",
   "execution_count": 2,
   "metadata": {},
   "outputs": [
    {
     "name": "stdout",
     "output_type": "stream",
     "text": [
      "tf.Tensor(7, shape=(), dtype=int32)\n",
      "0\n"
     ]
    }
   ],
   "source": [
    "scalar = tf.constant(7)\n",
    "print(scalar)\n",
    "# check dimentions of scalar\n",
    "print(scalar.ndim)"
   ]
  },
  {
   "cell_type": "code",
   "execution_count": 3,
   "metadata": {},
   "outputs": [
    {
     "name": "stdout",
     "output_type": "stream",
     "text": [
      "tf.Tensor([10 10], shape=(2,), dtype=int32)\n",
      "1\n"
     ]
    }
   ],
   "source": [
    "# Create a vencor\n",
    "vector = tf.constant([10, 10])\n",
    "print(vector)\n",
    "# check dimentions of vector\n",
    "print(vector.ndim)"
   ]
  },
  {
   "cell_type": "code",
   "execution_count": 4,
   "metadata": {},
   "outputs": [
    {
     "name": "stdout",
     "output_type": "stream",
     "text": [
      "tf.Tensor(\n",
      "[[10 10]\n",
      " [ 7  7]], shape=(2, 2), dtype=int32)\n",
      "2\n"
     ]
    }
   ],
   "source": [
    "# Create a matrix, more then one dim\n",
    "matrix = tf.constant([[10, 10],\n",
    "                     [7,7]])\n",
    "print(matrix)\n",
    "# check dimentions of matrix\n",
    "print(matrix.ndim)"
   ]
  },
  {
   "cell_type": "code",
   "execution_count": 5,
   "metadata": {},
   "outputs": [
    {
     "name": "stdout",
     "output_type": "stream",
     "text": [
      "tf.Tensor(\n",
      "[[10. 10.]\n",
      " [ 7.  7.]\n",
      " [ 4.  4.]], shape=(3, 2), dtype=float16)\n",
      "2\n"
     ]
    }
   ],
   "source": [
    "# Create another matrix\n",
    "another_matrix = tf.constant([[10., 10.],\n",
    "                             [7.,7.],\n",
    "                             [4.,4.]], dtype=tf.float16) #specify datatype\n",
    "print(another_matrix)\n",
    "# check dimentions of another_matrix\n",
    "print(another_matrix.ndim)"
   ]
  },
  {
   "cell_type": "code",
   "execution_count": 6,
   "metadata": {},
   "outputs": [
    {
     "name": "stdout",
     "output_type": "stream",
     "text": [
      "tf.Tensor(\n",
      "[[[10 10 10]\n",
      "  [ 7  7  7]]\n",
      "\n",
      " [[ 1  1  1]\n",
      "  [ 3  3  3]]\n",
      "\n",
      " [[ 2  2  2]\n",
      "  [ 5  5  5]]], shape=(3, 2, 3), dtype=int32)\n",
      "3\n"
     ]
    }
   ],
   "source": [
    "# create a tensor \n",
    "tensor = tf.constant([\n",
    "    [\n",
    "        [10,10,10],[7,7,7]\n",
    "    ],\n",
    "    [\n",
    "        [1,1,1],[3,3,3]\n",
    "    ],\n",
    "    [\n",
    "        [2,2,2],[5,5,5]\n",
    "    ],\n",
    "])\n",
    "print(tensor)\n",
    "# check dimentions of tensor\n",
    "print(tensor.ndim)"
   ]
  },
  {
   "cell_type": "markdown",
   "metadata": {},
   "source": [
    "### create tensors with tf.variable()"
   ]
  },
  {
   "cell_type": "code",
   "execution_count": 7,
   "metadata": {},
   "outputs": [
    {
     "data": {
      "text/plain": [
       "(<tf.Variable 'Variable:0' shape=(2,) dtype=int32, numpy=array([10,  7])>,\n",
       " <tf.Tensor: shape=(2,), dtype=int32, numpy=array([10,  7])>)"
      ]
     },
     "execution_count": 7,
     "metadata": {},
     "output_type": "execute_result"
    }
   ],
   "source": [
    "#create the same tensor as above \n",
    "changeable_tensor = tf.Variable([10,7])\n",
    "unchangeable_tensor = tf.constant([10, 7])\n",
    "changeable_tensor, unchangeable_tensor"
   ]
  },
  {
   "cell_type": "code",
   "execution_count": 8,
   "metadata": {},
   "outputs": [
    {
     "name": "stdout",
     "output_type": "stream",
     "text": [
      "tf.Tensor(10, shape=(), dtype=int32) <tf.Variable 'Variable:0' shape=(2,) dtype=int32, numpy=array([10,  7])>\n",
      "tf.Tensor(7, shape=(), dtype=int32) <tf.Variable 'Variable:0' shape=(2,) dtype=int32, numpy=array([7, 7])>\n"
     ]
    }
   ],
   "source": [
    "# try .assign() to modify tensor\n",
    "print(changeable_tensor[0], changeable_tensor)\n",
    "changeable_tensor[0].assign(7)\n",
    "print(changeable_tensor[0], changeable_tensor)"
   ]
  },
  {
   "cell_type": "code",
   "execution_count": 9,
   "metadata": {},
   "outputs": [],
   "source": [
    "# the above can't be done with tf.constant()\n",
    "# unchangeable_tensor[0].assign(7)"
   ]
  },
  {
   "cell_type": "markdown",
   "metadata": {},
   "source": [
    "### creating random tensor\n",
    "\n",
    "these are tensors of arbitary size containg random numbers"
   ]
  },
  {
   "cell_type": "code",
   "execution_count": 10,
   "metadata": {},
   "outputs": [
    {
     "name": "stdout",
     "output_type": "stream",
     "text": [
      "tf.Tensor(\n",
      "[[-0.7565803  -0.06854702]\n",
      " [ 0.07595026 -1.2573844 ]\n",
      " [-0.23193763 -1.8107855 ]], shape=(3, 2), dtype=float32)\n",
      "tf.Tensor(\n",
      "[[0.7493447  0.73561966]\n",
      " [0.45230794 0.49039817]\n",
      " [0.1889317  0.52027524]], shape=(3, 2), dtype=float32)\n"
     ]
    }
   ],
   "source": [
    "# create two random tensors\n",
    "random_1 = tf.random.Generator.from_seed(42)\n",
    "random_1 = random_1.normal(shape=(3,2)) # creates tensor based on normal distribution\n",
    "print(random_1)\n",
    "\n",
    "random_2 = tf.random.Generator.from_seed(42)\n",
    "random_2 = random_2.uniform(shape=(3,2)) # creates tensor based on uniform distribution\n",
    "print(random_2)"
   ]
  },
  {
   "cell_type": "markdown",
   "metadata": {},
   "source": [
    "### suffle order of tensor elements"
   ]
  },
  {
   "cell_type": "code",
   "execution_count": 11,
   "metadata": {},
   "outputs": [
    {
     "name": "stdout",
     "output_type": "stream",
     "text": [
      "tf.Tensor(\n",
      "[[10  7]\n",
      " [ 3  4]\n",
      " [ 2  5]], shape=(3, 2), dtype=int32)\n",
      "tf.Tensor(\n",
      "[[ 2  5]\n",
      " [ 3  4]\n",
      " [10  7]], shape=(3, 2), dtype=int32)\n",
      "tf.Tensor(\n",
      "[[ 2  5]\n",
      " [ 3  4]\n",
      " [10  7]], shape=(3, 2), dtype=int32)\n",
      "tf.Tensor(\n",
      "[[10  7]\n",
      " [ 3  4]\n",
      " [ 2  5]], shape=(3, 2), dtype=int32)\n"
     ]
    }
   ],
   "source": [
    "not_suffled = tf.constant([[10,7],\n",
    "                           [3,4],\n",
    "                           [2,5]])\n",
    "print(not_suffled)\n",
    "print(tf.random.shuffle(not_suffled, seed=42)) #suffles along first dim\n",
    "print(tf.random.shuffle(not_suffled, seed=42)) #diff everytime\n",
    "print(tf.random.shuffle(not_suffled, seed=42))\n",
    "#seed=42 here sets operation level seed "
   ]
  },
  {
   "cell_type": "code",
   "execution_count": 12,
   "metadata": {},
   "outputs": [
    {
     "name": "stdout",
     "output_type": "stream",
     "text": [
      "tf.Tensor(\n",
      "[[10  7]\n",
      " [ 3  4]\n",
      " [ 2  5]], shape=(3, 2), dtype=int32)\n",
      "tf.Tensor(\n",
      "[[ 2  5]\n",
      " [10  7]\n",
      " [ 3  4]], shape=(3, 2), dtype=int32)\n",
      "tf.Tensor(\n",
      "[[ 2  5]\n",
      " [10  7]\n",
      " [ 3  4]], shape=(3, 2), dtype=int32)\n",
      "tf.Tensor(\n",
      "[[ 3  4]\n",
      " [ 2  5]\n",
      " [10  7]], shape=(3, 2), dtype=int32)\n",
      "tf.Tensor(\n",
      "[[ 3  4]\n",
      " [ 2  5]\n",
      " [10  7]], shape=(3, 2), dtype=int32)\n"
     ]
    }
   ],
   "source": [
    "tf.random.set_seed(42) # here sets global level seed\n",
    "print(tf.random.shuffle(not_suffled, seed=42))\n",
    "print(tf.random.shuffle(not_suffled, seed=42))\n",
    "print(tf.random.shuffle(not_suffled, seed=42)) \n",
    "print(tf.random.shuffle(not_suffled, seed=42))\n",
    "print(tf.random.shuffle(not_suffled, seed=42))\n",
    "\n",
    "#"
   ]
  },
  {
   "cell_type": "code",
   "execution_count": null,
   "metadata": {},
   "outputs": [],
   "source": []
  },
  {
   "cell_type": "code",
   "execution_count": null,
   "metadata": {},
   "outputs": [],
   "source": []
  },
  {
   "cell_type": "code",
   "execution_count": null,
   "metadata": {},
   "outputs": [],
   "source": []
  }
 ],
 "metadata": {
  "kernelspec": {
   "display_name": "Python 3",
   "language": "python",
   "name": "python3"
  },
  "language_info": {
   "codemirror_mode": {
    "name": "ipython",
    "version": 3
   },
   "file_extension": ".py",
   "mimetype": "text/x-python",
   "name": "python",
   "nbconvert_exporter": "python",
   "pygments_lexer": "ipython3",
   "version": "3.8.3"
  }
 },
 "nbformat": 4,
 "nbformat_minor": 4
}
