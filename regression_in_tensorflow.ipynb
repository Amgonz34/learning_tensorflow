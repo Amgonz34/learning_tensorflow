{
 "cells": [
  {
   "cell_type": "code",
   "execution_count": 1,
   "metadata": {},
   "outputs": [
    {
     "name": "stdout",
     "output_type": "stream",
     "text": [
      "2.9.1\n"
     ]
    }
   ],
   "source": [
    "import tensorflow as tf\n",
    "import numpy as np\n",
    "print(tf.__version__)\n",
    "tf.config.list_physical_devices()\n",
    "import matplotlib.pyplot as plt"
   ]
  },
  {
   "cell_type": "markdown",
   "metadata": {},
   "source": [
    "### intro to regression in tensorflow"
   ]
  },
  {
   "cell_type": "code",
   "execution_count": 2,
   "metadata": {},
   "outputs": [
    {
     "data": {
      "text/plain": [
       "<matplotlib.collections.PathCollection at 0x2b6c644d8e0>"
      ]
     },
     "execution_count": 2,
     "metadata": {},
     "output_type": "execute_result"
    },
    {
     "data": {
      "image/png": "[encoded data removed]",
      "text/plain": [
       "<Figure size 432x288 with 1 Axes>"
      ]
     },
     "metadata": {
      "needs_background": "light"
     },
     "output_type": "display_data"
    }
   ],
   "source": [
    "# build features\n",
    "\n",
    "x = np.array([-7.0, -4.0, -1.0, 2.0, 5.0, 8.0, 11.0, 14.0])\n",
    "y = np.array([3.0, 6.0, 9.0, 12.0, 15.0, 18.0, 21.0, 24.0])\n",
    "\n",
    "plt.scatter(x,y) # here y = x + 10"
   ]
  },
  {
   "cell_type": "code",
   "execution_count": 3,
   "metadata": {},
   "outputs": [
    {
     "data": {
      "text/plain": [
       "(<tf.Tensor: shape=(3,), dtype=string, numpy=array([b'bedroom', b'bathroom', b'garage'], dtype=object)>,\n",
       " <tf.Tensor: shape=(1,), dtype=int32, numpy=array([939700])>)"
      ]
     },
     "execution_count": 3,
     "metadata": {},
     "output_type": "execute_result"
    }
   ],
   "source": [
    "# build tensor for demo housing price prediction problem\n",
    "house_info = tf.constant([\"bedroom\", \"bathroom\", \"garage\"])\n",
    "house_price = tf.constant([939700])\n",
    "house_info, house_price"
   ]
  },
  {
   "cell_type": "code",
   "execution_count": 4,
   "metadata": {},
   "outputs": [
    {
     "data": {
      "text/plain": [
       "(<tf.Tensor: shape=(8,), dtype=float64, numpy=array([-7., -4., -1.,  2.,  5.,  8., 11., 14.])>,\n",
       " <tf.Tensor: shape=(8,), dtype=float64, numpy=array([ 3.,  6.,  9., 12., 15., 18., 21., 24.])>)"
      ]
     },
     "execution_count": 4,
     "metadata": {},
     "output_type": "execute_result"
    }
   ],
   "source": [
    "#turn np array to tensors\n",
    "x = tf.constant(x)\n",
    "y = tf.constant(y)\n",
    "x, y"
   ]
  },
  {
   "cell_type": "markdown",
   "metadata": {},
   "source": [
    "### steps in modeling in tf\n",
    "1. create a model - define input and output layers, as well as hiden layers of a model\n",
    "2. compiliong the model - define the loss funtions (how wrong the model is), optimizers (how to impove the model). evaluation metrics (what we can use to interpret performance of the model)\n",
    "3. fitting the model - letting the model try to find paters between X and Y"
   ]
  },
  {
   "cell_type": "code",
   "execution_count": 5,
   "metadata": {},
   "outputs": [
    {
     "name": "stdout",
     "output_type": "stream",
     "text": [
      "Epoch 1/5\n",
      "1/1 [==============================] - 4s 4s/step - loss: 11.5048 - mae: 11.5048\n",
      "Epoch 2/5\n",
      "1/1 [==============================] - 0s 6ms/step - loss: 11.3723 - mae: 11.3723\n",
      "Epoch 3/5\n",
      "1/1 [==============================] - 0s 10ms/step - loss: 11.2398 - mae: 11.2398\n",
      "Epoch 4/5\n",
      "1/1 [==============================] - 0s 4ms/step - loss: 11.1073 - mae: 11.1073\n",
      "Epoch 5/5\n",
      "1/1 [==============================] - 0s 5ms/step - loss: 10.9748 - mae: 10.9748\n"
     ]
    },
    {
     "data": {
      "text/plain": [
       "<keras.callbacks.History at 0x2b6c6e1f0a0>"
      ]
     },
     "execution_count": 5,
     "metadata": {},
     "output_type": "execute_result"
    }
   ],
   "source": [
    "# set random seed\n",
    "tf.random.set_seed(42)\n",
    "\n",
    "# 1. create the mode; using sequental API\n",
    "model = tf.keras.Sequential([\n",
    "    tf.keras.layers.Dense(1)\n",
    "])\n",
    "# can also be done like this\n",
    "# model = tf.keras.Sequential()\n",
    "# model.app(tf.keras.layers.Dense(1))\n",
    "\n",
    "# 2. compile the model\n",
    "model.compile(\n",
    "    loss=tf.keras.losses.mae,\n",
    "    optimizer=tf.keras.optimizers.SGD(),\n",
    "    metrics=['mae']\n",
    ")\n",
    "# 3. fit the model\n",
    "model.fit(tf.expand_dims(x, axis=-1), y, epochs=5)"
   ]
  },
  {
   "cell_type": "code",
   "execution_count": 6,
   "metadata": {},
   "outputs": [
    {
     "data": {
      "text/plain": [
       "(<tf.Tensor: shape=(8,), dtype=float64, numpy=array([-7., -4., -1.,  2.,  5.,  8., 11., 14.])>,\n",
       " <tf.Tensor: shape=(8,), dtype=float64, numpy=array([ 3.,  6.,  9., 12., 15., 18., 21., 24.])>)"
      ]
     },
     "execution_count": 6,
     "metadata": {},
     "output_type": "execute_result"
    }
   ],
   "source": [
    "x, y"
   ]
  },
  {
   "cell_type": "code",
   "execution_count": 7,
   "metadata": {},
   "outputs": [
    {
     "name": "stdout",
     "output_type": "stream",
     "text": [
      "1/1 [==============================] - 0s 202ms/step\n"
     ]
    },
    {
     "data": {
      "text/plain": [
       "array([[12.716021]], dtype=float32)"
      ]
     },
     "execution_count": 7,
     "metadata": {},
     "output_type": "execute_result"
    }
   ],
   "source": [
    "model.predict([17.0])"
   ]
  },
  {
   "cell_type": "code",
   "execution_count": 10,
   "metadata": {
    "scrolled": true,
    "tags": []
   },
   "outputs": [
    {
     "name": "stdout",
     "output_type": "stream",
     "text": [
      "Epoch 1/100\n",
      "1/1 [==============================] - 0s 6ms/step - loss: 9.5173 - mae: 9.5173\n",
      "Epoch 2/100\n",
      "1/1 [==============================] - 0s 5ms/step - loss: 9.3848 - mae: 9.3848\n",
      "Epoch 3/100\n",
      "1/1 [==============================] - 0s 3ms/step - loss: 9.2523 - mae: 9.2523\n",
      "Epoch 4/100\n",
      "1/1 [==============================] - 0s 5ms/step - loss: 9.1198 - mae: 9.1198\n",
      "Epoch 5/100\n",
      "1/1 [==============================] - 0s 3ms/step - loss: 8.9873 - mae: 8.9873\n",
      "Epoch 6/100\n",
      "1/1 [==============================] - 0s 6ms/step - loss: 8.8548 - mae: 8.8548\n",
      "Epoch 7/100\n",
      "1/1 [==============================] - 0s 4ms/step - loss: 8.7223 - mae: 8.7223\n",
      "Epoch 8/100\n",
      "1/1 [==============================] - 0s 4ms/step - loss: 8.5898 - mae: 8.5898\n",
      "Epoch 9/100\n",
      "1/1 [==============================] - 0s 3ms/step - loss: 8.4573 - mae: 8.4573\n",
      "Epoch 10/100\n",
      "1/1 [==============================] - 0s 3ms/step - loss: 8.3248 - mae: 8.3248\n",
      "Epoch 11/100\n",
      "1/1 [==============================] - 0s 4ms/step - loss: 8.1923 - mae: 8.1923\n",
      "Epoch 12/100\n",
      "1/1 [==============================] - 0s 3ms/step - loss: 8.0598 - mae: 8.0598\n",
      "Epoch 13/100\n",
      "1/1 [==============================] - 0s 4ms/step - loss: 7.9273 - mae: 7.9273\n",
      "Epoch 14/100\n",
      "1/1 [==============================] - 0s 5ms/step - loss: 7.7948 - mae: 7.7948\n",
      "Epoch 15/100\n",
      "1/1 [==============================] - 0s 4ms/step - loss: 7.6623 - mae: 7.6623\n",
      "Epoch 16/100\n",
      "1/1 [==============================] - 0s 5ms/step - loss: 7.5298 - mae: 7.5298\n",
      "Epoch 17/100\n",
      "1/1 [==============================] - 0s 3ms/step - loss: 7.3973 - mae: 7.3973\n",
      "Epoch 18/100\n",
      "1/1 [==============================] - 0s 4ms/step - loss: 7.2648 - mae: 7.2648\n",
      "Epoch 19/100\n",
      "1/1 [==============================] - 0s 4ms/step - loss: 7.2525 - mae: 7.2525\n",
      "Epoch 20/100\n",
      "1/1 [==============================] - 0s 4ms/step - loss: 7.2469 - mae: 7.2469\n",
      "Epoch 21/100\n",
      "1/1 [==============================] - 0s 4ms/step - loss: 7.2413 - mae: 7.2413\n",
      "Epoch 22/100\n",
      "1/1 [==============================] - 0s 4ms/step - loss: 7.2356 - mae: 7.2356\n",
      "Epoch 23/100\n",
      "1/1 [==============================] - 0s 3ms/step - loss: 7.2300 - mae: 7.2300\n",
      "Epoch 24/100\n",
      "1/1 [==============================] - 0s 3ms/step - loss: 7.2244 - mae: 7.2244\n",
      "Epoch 25/100\n",
      "1/1 [==============================] - 0s 3ms/step - loss: 7.2188 - mae: 7.2188\n",
      "Epoch 26/100\n",
      "1/1 [==============================] - 0s 4ms/step - loss: 7.2131 - mae: 7.2131\n",
      "Epoch 27/100\n",
      "1/1 [==============================] - 0s 4ms/step - loss: 7.2075 - mae: 7.2075\n",
      "Epoch 28/100\n",
      "1/1 [==============================] - 0s 3ms/step - loss: 7.2019 - mae: 7.2019\n",
      "Epoch 29/100\n",
      "1/1 [==============================] - 0s 3ms/step - loss: 7.1962 - mae: 7.1962\n",
      "Epoch 30/100\n",
      "1/1 [==============================] - 0s 5ms/step - loss: 7.1906 - mae: 7.1906\n",
      "Epoch 31/100\n",
      "1/1 [==============================] - 0s 4ms/step - loss: 7.1850 - mae: 7.1850\n",
      "Epoch 32/100\n",
      "1/1 [==============================] - 0s 3ms/step - loss: 7.1794 - mae: 7.1794\n",
      "Epoch 33/100\n",
      "1/1 [==============================] - 0s 3ms/step - loss: 7.1738 - mae: 7.1738\n",
      "Epoch 34/100\n",
      "1/1 [==============================] - 0s 4ms/step - loss: 7.1681 - mae: 7.1681\n",
      "Epoch 35/100\n",
      "1/1 [==============================] - 0s 5ms/step - loss: 7.1625 - mae: 7.1625\n",
      "Epoch 36/100\n",
      "1/1 [==============================] - 0s 4ms/step - loss: 7.1569 - mae: 7.1569\n",
      "Epoch 37/100\n",
      "1/1 [==============================] - 0s 3ms/step - loss: 7.1512 - mae: 7.1512\n",
      "Epoch 38/100\n",
      "1/1 [==============================] - 0s 4ms/step - loss: 7.1456 - mae: 7.1456\n",
      "Epoch 39/100\n",
      "1/1 [==============================] - 0s 4ms/step - loss: 7.1400 - mae: 7.1400\n",
      "Epoch 40/100\n",
      "1/1 [==============================] - 0s 3ms/step - loss: 7.1344 - mae: 7.1344\n",
      "Epoch 41/100\n",
      "1/1 [==============================] - 0s 4ms/step - loss: 7.1287 - mae: 7.1287\n",
      "Epoch 42/100\n",
      "1/1 [==============================] - 0s 4ms/step - loss: 7.1231 - mae: 7.1231\n",
      "Epoch 43/100\n",
      "1/1 [==============================] - 0s 3ms/step - loss: 7.1175 - mae: 7.1175\n",
      "Epoch 44/100\n",
      "1/1 [==============================] - 0s 3ms/step - loss: 7.1119 - mae: 7.1119\n",
      "Epoch 45/100\n",
      "1/1 [==============================] - 0s 3ms/step - loss: 7.1063 - mae: 7.1063\n",
      "Epoch 46/100\n",
      "1/1 [==============================] - 0s 5ms/step - loss: 7.1006 - mae: 7.1006\n",
      "Epoch 47/100\n",
      "1/1 [==============================] - 0s 3ms/step - loss: 7.0950 - mae: 7.0950\n",
      "Epoch 48/100\n",
      "1/1 [==============================] - 0s 4ms/step - loss: 7.0894 - mae: 7.0894\n",
      "Epoch 49/100\n",
      "1/1 [==============================] - 0s 4ms/step - loss: 7.0837 - mae: 7.0837\n",
      "Epoch 50/100\n",
      "1/1 [==============================] - 0s 3ms/step - loss: 7.0781 - mae: 7.0781\n",
      "Epoch 51/100\n",
      "1/1 [==============================] - 0s 3ms/step - loss: 7.0725 - mae: 7.0725\n",
      "Epoch 52/100\n",
      "1/1 [==============================] - 0s 5ms/step - loss: 7.0669 - mae: 7.0669\n",
      "Epoch 53/100\n",
      "1/1 [==============================] - 0s 3ms/step - loss: 7.0613 - mae: 7.0613\n",
      "Epoch 54/100\n",
      "1/1 [==============================] - 0s 4ms/step - loss: 7.0556 - mae: 7.0556\n",
      "Epoch 55/100\n",
      "1/1 [==============================] - 0s 3ms/step - loss: 7.0500 - mae: 7.0500\n",
      "Epoch 56/100\n",
      "1/1 [==============================] - 0s 4ms/step - loss: 7.0444 - mae: 7.0444\n",
      "Epoch 57/100\n",
      "1/1 [==============================] - 0s 3ms/step - loss: 7.0388 - mae: 7.0388\n",
      "Epoch 58/100\n",
      "1/1 [==============================] - 0s 4ms/step - loss: 7.0331 - mae: 7.0331\n",
      "Epoch 59/100\n",
      "1/1 [==============================] - 0s 3ms/step - loss: 7.0275 - mae: 7.0275\n",
      "Epoch 60/100\n",
      "1/1 [==============================] - 0s 3ms/step - loss: 7.0219 - mae: 7.0219\n",
      "Epoch 61/100\n",
      "1/1 [==============================] - 0s 4ms/step - loss: 7.0163 - mae: 7.0163\n",
      "Epoch 62/100\n",
      "1/1 [==============================] - 0s 4ms/step - loss: 7.0106 - mae: 7.0106\n",
      "Epoch 63/100\n",
      "1/1 [==============================] - 0s 5ms/step - loss: 7.0050 - mae: 7.0050\n",
      "Epoch 64/100\n",
      "1/1 [==============================] - 0s 4ms/step - loss: 6.9994 - mae: 6.9994\n",
      "Epoch 65/100\n",
      "1/1 [==============================] - 0s 3ms/step - loss: 6.9938 - mae: 6.9938\n",
      "Epoch 66/100\n",
      "1/1 [==============================] - 0s 4ms/step - loss: 6.9881 - mae: 6.9881\n",
      "Epoch 67/100\n",
      "1/1 [==============================] - 0s 4ms/step - loss: 6.9825 - mae: 6.9825\n",
      "Epoch 68/100\n",
      "1/1 [==============================] - 0s 3ms/step - loss: 6.9769 - mae: 6.9769\n",
      "Epoch 69/100\n",
      "1/1 [==============================] - 0s 4ms/step - loss: 6.9713 - mae: 6.9713\n",
      "Epoch 70/100\n",
      "1/1 [==============================] - 0s 3ms/step - loss: 6.9656 - mae: 6.9656\n",
      "Epoch 71/100\n",
      "1/1 [==============================] - 0s 3ms/step - loss: 6.9600 - mae: 6.9600\n",
      "Epoch 72/100\n",
      "1/1 [==============================] - 0s 3ms/step - loss: 6.9544 - mae: 6.9544\n",
      "Epoch 73/100\n",
      "1/1 [==============================] - 0s 4ms/step - loss: 6.9488 - mae: 6.9488\n",
      "Epoch 74/100\n",
      "1/1 [==============================] - 0s 4ms/step - loss: 6.9431 - mae: 6.9431\n",
      "Epoch 75/100\n",
      "1/1 [==============================] - 0s 5ms/step - loss: 6.9375 - mae: 6.9375\n",
      "Epoch 76/100\n",
      "1/1 [==============================] - 0s 3ms/step - loss: 6.9319 - mae: 6.9319\n",
      "Epoch 77/100\n",
      "1/1 [==============================] - 0s 4ms/step - loss: 6.9263 - mae: 6.9263\n",
      "Epoch 78/100\n",
      "1/1 [==============================] - 0s 4ms/step - loss: 6.9206 - mae: 6.9206\n",
      "Epoch 79/100\n",
      "1/1 [==============================] - 0s 4ms/step - loss: 6.9150 - mae: 6.9150\n",
      "Epoch 80/100\n",
      "1/1 [==============================] - 0s 4ms/step - loss: 6.9094 - mae: 6.9094\n",
      "Epoch 81/100\n",
      "1/1 [==============================] - 0s 3ms/step - loss: 6.9038 - mae: 6.9038\n",
      "Epoch 82/100\n",
      "1/1 [==============================] - 0s 3ms/step - loss: 6.8981 - mae: 6.8981\n",
      "Epoch 83/100\n",
      "1/1 [==============================] - 0s 4ms/step - loss: 6.8925 - mae: 6.8925\n",
      "Epoch 84/100\n",
      "1/1 [==============================] - 0s 4ms/step - loss: 6.8869 - mae: 6.8869\n",
      "Epoch 85/100\n",
      "1/1 [==============================] - 0s 3ms/step - loss: 6.8813 - mae: 6.8813\n",
      "Epoch 86/100\n",
      "1/1 [==============================] - 0s 5ms/step - loss: 6.8756 - mae: 6.8756\n",
      "Epoch 87/100\n",
      "1/1 [==============================] - 0s 3ms/step - loss: 6.8700 - mae: 6.8700\n",
      "Epoch 88/100\n",
      "1/1 [==============================] - 0s 3ms/step - loss: 6.8644 - mae: 6.8644\n",
      "Epoch 89/100\n",
      "1/1 [==============================] - 0s 4ms/step - loss: 6.8588 - mae: 6.8588\n",
      "Epoch 90/100\n",
      "1/1 [==============================] - 0s 3ms/step - loss: 6.8531 - mae: 6.8531\n",
      "Epoch 91/100\n",
      "1/1 [==============================] - 0s 3ms/step - loss: 6.8475 - mae: 6.8475\n",
      "Epoch 92/100\n",
      "1/1 [==============================] - 0s 5ms/step - loss: 6.8419 - mae: 6.8419\n",
      "Epoch 93/100\n",
      "1/1 [==============================] - 0s 4ms/step - loss: 6.8363 - mae: 6.8363\n",
      "Epoch 94/100\n",
      "1/1 [==============================] - 0s 4ms/step - loss: 6.8306 - mae: 6.8306\n",
      "Epoch 95/100\n",
      "1/1 [==============================] - 0s 4ms/step - loss: 6.8250 - mae: 6.8250\n",
      "Epoch 96/100\n",
      "1/1 [==============================] - 0s 3ms/step - loss: 6.8194 - mae: 6.8194\n",
      "Epoch 97/100\n",
      "1/1 [==============================] - 0s 4ms/step - loss: 6.8138 - mae: 6.8138\n",
      "Epoch 98/100\n",
      "1/1 [==============================] - 0s 3ms/step - loss: 6.8081 - mae: 6.8081\n",
      "Epoch 99/100\n",
      "1/1 [==============================] - 0s 4ms/step - loss: 6.8025 - mae: 6.8025\n",
      "Epoch 100/100\n",
      "1/1 [==============================] - 0s 6ms/step - loss: 6.7969 - mae: 6.7969\n"
     ]
    },
    {
     "data": {
      "text/plain": [
       "<keras.callbacks.History at 0x2b6c8242040>"
      ]
     },
     "execution_count": 10,
     "metadata": {},
     "output_type": "execute_result"
    }
   ],
   "source": [
    "# add epochs to imporve the model\n",
    "model.fit(tf.expand_dims(x, axis=-1), y, epochs=100)"
   ]
  },
  {
   "cell_type": "code",
   "execution_count": 12,
   "metadata": {},
   "outputs": [
    {
     "name": "stdout",
     "output_type": "stream",
     "text": [
      "1/1 [==============================] - 0s 40ms/step\n"
     ]
    },
    {
     "data": {
      "text/plain": [
       "array([[30.271011]], dtype=float32)"
      ]
     },
     "execution_count": 12,
     "metadata": {},
     "output_type": "execute_result"
    }
   ],
   "source": [
    "model.predict([17.0])"
   ]
  },
  {
   "cell_type": "markdown",
   "metadata": {},
   "source": [
    "### steps to improve a DL model\n",
    "\n",
    "1. **creating a model** - add more layers, increase hidden units in hidden layers\n",
    "2. **compiling a model** - change optimization, change learning rate. \n",
    "3. **fitting a model** - increase epochs on the model, improve data for the model"
   ]
  },
  {
   "cell_type": "code",
   "execution_count": 15,
   "metadata": {
    "scrolled": true,
    "tags": []
   },
   "outputs": [
    {
     "name": "stdout",
     "output_type": "stream",
     "text": [
      "Epoch 1/100\n",
      "1/1 [==============================] - 0s 278ms/step - loss: 14.0407 - mae: 14.0407\n",
      "Epoch 2/100\n",
      "1/1 [==============================] - 0s 3ms/step - loss: 13.4800 - mae: 13.4800\n",
      "Epoch 3/100\n",
      "1/1 [==============================] - 0s 3ms/step - loss: 12.9217 - mae: 12.9217\n",
      "Epoch 4/100\n",
      "1/1 [==============================] - 0s 3ms/step - loss: 12.3612 - mae: 12.3612\n",
      "Epoch 5/100\n",
      "1/1 [==============================] - 0s 4ms/step - loss: 11.7937 - mae: 11.7937\n",
      "Epoch 6/100\n",
      "1/1 [==============================] - 0s 5ms/step - loss: 11.2106 - mae: 11.2106\n",
      "Epoch 7/100\n",
      "1/1 [==============================] - 0s 4ms/step - loss: 10.6209 - mae: 10.6209\n",
      "Epoch 8/100\n",
      "1/1 [==============================] - 0s 3ms/step - loss: 10.0058 - mae: 10.0058\n",
      "Epoch 9/100\n",
      "1/1 [==============================] - 0s 5ms/step - loss: 9.3625 - mae: 9.3625\n",
      "Epoch 10/100\n",
      "1/1 [==============================] - 0s 4ms/step - loss: 8.6887 - mae: 8.6887\n",
      "Epoch 11/100\n",
      "1/1 [==============================] - 0s 4ms/step - loss: 7.9730 - mae: 7.9730\n",
      "Epoch 12/100\n",
      "1/1 [==============================] - 0s 4ms/step - loss: 7.2130 - mae: 7.2130\n",
      "Epoch 13/100\n",
      "1/1 [==============================] - 0s 3ms/step - loss: 6.3984 - mae: 6.3984\n",
      "Epoch 14/100\n",
      "1/1 [==============================] - 0s 5ms/step - loss: 5.5215 - mae: 5.5215\n",
      "Epoch 15/100\n",
      "1/1 [==============================] - 0s 4ms/step - loss: 4.5762 - mae: 4.5762\n",
      "Epoch 16/100\n",
      "1/1 [==============================] - 0s 3ms/step - loss: 4.0920 - mae: 4.0920\n",
      "Epoch 17/100\n",
      "1/1 [==============================] - 0s 4ms/step - loss: 4.0292 - mae: 4.0292\n",
      "Epoch 18/100\n",
      "1/1 [==============================] - 0s 4ms/step - loss: 3.9887 - mae: 3.9887\n",
      "Epoch 19/100\n",
      "1/1 [==============================] - 0s 3ms/step - loss: 3.9591 - mae: 3.9591\n",
      "Epoch 20/100\n",
      "1/1 [==============================] - 0s 4ms/step - loss: 3.8951 - mae: 3.8951\n",
      "Epoch 21/100\n",
      "1/1 [==============================] - 0s 4ms/step - loss: 3.9391 - mae: 3.9391\n",
      "Epoch 22/100\n",
      "1/1 [==============================] - 0s 4ms/step - loss: 3.8718 - mae: 3.8718\n",
      "Epoch 23/100\n",
      "1/1 [==============================] - 0s 4ms/step - loss: 3.9498 - mae: 3.9498\n",
      "Epoch 24/100\n",
      "1/1 [==============================] - 0s 4ms/step - loss: 3.8853 - mae: 3.8853\n",
      "Epoch 25/100\n",
      "1/1 [==============================] - 0s 4ms/step - loss: 3.9245 - mae: 3.9245\n",
      "Epoch 26/100\n",
      "1/1 [==============================] - 0s 4ms/step - loss: 3.8929 - mae: 3.8929\n",
      "Epoch 27/100\n",
      "1/1 [==============================] - 0s 3ms/step - loss: 3.8991 - mae: 3.8991\n",
      "Epoch 28/100\n",
      "1/1 [==============================] - 0s 5ms/step - loss: 3.9005 - mae: 3.9005\n",
      "Epoch 29/100\n",
      "1/1 [==============================] - 0s 4ms/step - loss: 3.8734 - mae: 3.8734\n",
      "Epoch 30/100\n",
      "1/1 [==============================] - 0s 3ms/step - loss: 3.9084 - mae: 3.9084\n",
      "Epoch 31/100\n",
      "1/1 [==============================] - 0s 5ms/step - loss: 3.8507 - mae: 3.8507\n",
      "Epoch 32/100\n",
      "1/1 [==============================] - 0s 4ms/step - loss: 3.9226 - mae: 3.9226\n",
      "Epoch 33/100\n",
      "1/1 [==============================] - 0s 4ms/step - loss: 3.8550 - mae: 3.8550\n",
      "Epoch 34/100\n",
      "1/1 [==============================] - 0s 4ms/step - loss: 3.9021 - mae: 3.9021\n",
      "Epoch 35/100\n",
      "1/1 [==============================] - 0s 3ms/step - loss: 3.8628 - mae: 3.8628\n",
      "Epoch 36/100\n",
      "1/1 [==============================] - 0s 3ms/step - loss: 3.8763 - mae: 3.8763\n",
      "Epoch 37/100\n",
      "1/1 [==============================] - 0s 3ms/step - loss: 3.8707 - mae: 3.8707\n",
      "Epoch 38/100\n",
      "1/1 [==============================] - 0s 4ms/step - loss: 3.8504 - mae: 3.8504\n",
      "Epoch 39/100\n",
      "1/1 [==============================] - 0s 3ms/step - loss: 3.8787 - mae: 3.8787\n",
      "Epoch 40/100\n",
      "1/1 [==============================] - 0s 5ms/step - loss: 3.8298 - mae: 3.8298\n",
      "Epoch 41/100\n",
      "1/1 [==============================] - 0s 3ms/step - loss: 3.8932 - mae: 3.8932\n",
      "Epoch 42/100\n",
      "1/1 [==============================] - 0s 3ms/step - loss: 3.8259 - mae: 3.8259\n",
      "Epoch 43/100\n",
      "1/1 [==============================] - 0s 3ms/step - loss: 3.8783 - mae: 3.8783\n",
      "Epoch 44/100\n",
      "1/1 [==============================] - 0s 4ms/step - loss: 3.8339 - mae: 3.8339\n",
      "Epoch 45/100\n",
      "1/1 [==============================] - 0s 3ms/step - loss: 3.8523 - mae: 3.8523\n",
      "Epoch 46/100\n",
      "1/1 [==============================] - 0s 4ms/step - loss: 3.8420 - mae: 3.8420\n",
      "Epoch 47/100\n",
      "1/1 [==============================] - 0s 4ms/step - loss: 3.8262 - mae: 3.8262\n",
      "Epoch 48/100\n",
      "1/1 [==============================] - 0s 3ms/step - loss: 3.8517 - mae: 3.8517\n",
      "Epoch 49/100\n",
      "1/1 [==============================] - 0s 4ms/step - loss: 3.8055 - mae: 3.8055\n",
      "Epoch 50/100\n",
      "1/1 [==============================] - 0s 3ms/step - loss: 3.8648 - mae: 3.8648\n",
      "Epoch 51/100\n",
      "1/1 [==============================] - 0s 4ms/step - loss: 3.7979 - mae: 3.7979\n",
      "Epoch 52/100\n",
      "1/1 [==============================] - 0s 3ms/step - loss: 3.8533 - mae: 3.8533\n",
      "Epoch 53/100\n",
      "1/1 [==============================] - 0s 3ms/step - loss: 3.8061 - mae: 3.8061\n",
      "Epoch 54/100\n",
      "1/1 [==============================] - 0s 4ms/step - loss: 3.8270 - mae: 3.8270\n",
      "Epoch 55/100\n",
      "1/1 [==============================] - 0s 3ms/step - loss: 3.8144 - mae: 3.8144\n",
      "Epoch 56/100\n",
      "1/1 [==============================] - 0s 4ms/step - loss: 3.8006 - mae: 3.8006\n",
      "Epoch 57/100\n",
      "1/1 [==============================] - 0s 3ms/step - loss: 3.8264 - mae: 3.8264\n",
      "Epoch 58/100\n",
      "1/1 [==============================] - 0s 3ms/step - loss: 3.7796 - mae: 3.7796\n",
      "Epoch 59/100\n",
      "1/1 [==============================] - 0s 3ms/step - loss: 3.8376 - mae: 3.8376\n",
      "Epoch 60/100\n",
      "1/1 [==============================] - 0s 3ms/step - loss: 3.7710 - mae: 3.7710\n",
      "Epoch 61/100\n",
      "1/1 [==============================] - 0s 3ms/step - loss: 3.8270 - mae: 3.8270\n",
      "Epoch 62/100\n",
      "1/1 [==============================] - 0s 4ms/step - loss: 3.7794 - mae: 3.7794\n",
      "Epoch 63/100\n",
      "1/1 [==============================] - 0s 3ms/step - loss: 3.8004 - mae: 3.8004\n",
      "Epoch 64/100\n",
      "1/1 [==============================] - 0s 3ms/step - loss: 3.7879 - mae: 3.7879\n",
      "Epoch 65/100\n",
      "1/1 [==============================] - 0s 3ms/step - loss: 3.7737 - mae: 3.7737\n",
      "Epoch 66/100\n",
      "1/1 [==============================] - 0s 3ms/step - loss: 3.8027 - mae: 3.8027\n",
      "Epoch 67/100\n",
      "1/1 [==============================] - 0s 3ms/step - loss: 3.7524 - mae: 3.7524\n",
      "Epoch 68/100\n",
      "1/1 [==============================] - 0s 3ms/step - loss: 3.8114 - mae: 3.8114\n",
      "Epoch 69/100\n",
      "1/1 [==============================] - 0s 4ms/step - loss: 3.7451 - mae: 3.7451\n",
      "Epoch 70/100\n",
      "1/1 [==============================] - 0s 4ms/step - loss: 3.7994 - mae: 3.7994\n",
      "Epoch 71/100\n",
      "1/1 [==============================] - 0s 3ms/step - loss: 3.7537 - mae: 3.7537\n",
      "Epoch 72/100\n",
      "1/1 [==============================] - 0s 3ms/step - loss: 3.7726 - mae: 3.7726\n",
      "Epoch 73/100\n",
      "1/1 [==============================] - 0s 3ms/step - loss: 3.7624 - mae: 3.7624\n",
      "Epoch 74/100\n",
      "1/1 [==============================] - 0s 3ms/step - loss: 3.7474 - mae: 3.7474\n",
      "Epoch 75/100\n",
      "1/1 [==============================] - 0s 3ms/step - loss: 3.7774 - mae: 3.7774\n",
      "Epoch 76/100\n",
      "1/1 [==============================] - 0s 4ms/step - loss: 3.7238 - mae: 3.7238\n",
      "Epoch 77/100\n",
      "1/1 [==============================] - 0s 3ms/step - loss: 3.7863 - mae: 3.7863\n",
      "Epoch 78/100\n",
      "1/1 [==============================] - 0s 3ms/step - loss: 3.7203 - mae: 3.7203\n",
      "Epoch 79/100\n",
      "1/1 [==============================] - 0s 4ms/step - loss: 3.7705 - mae: 3.7705\n",
      "Epoch 80/100\n",
      "1/1 [==============================] - 0s 3ms/step - loss: 3.7290 - mae: 3.7290\n",
      "Epoch 81/100\n",
      "1/1 [==============================] - 0s 3ms/step - loss: 3.7433 - mae: 3.7433\n",
      "Epoch 82/100\n",
      "1/1 [==============================] - 0s 3ms/step - loss: 3.7379 - mae: 3.7379\n",
      "Epoch 83/100\n",
      "1/1 [==============================] - 0s 3ms/step - loss: 3.7196 - mae: 3.7196\n",
      "Epoch 84/100\n",
      "1/1 [==============================] - 0s 4ms/step - loss: 3.7531 - mae: 3.7531\n",
      "Epoch 85/100\n",
      "1/1 [==============================] - 0s 3ms/step - loss: 3.6939 - mae: 3.6939\n",
      "Epoch 86/100\n",
      "1/1 [==============================] - 0s 4ms/step - loss: 3.7622 - mae: 3.7622\n",
      "Epoch 87/100\n",
      "1/1 [==============================] - 0s 3ms/step - loss: 3.6964 - mae: 3.6964\n",
      "Epoch 88/100\n",
      "1/1 [==============================] - 0s 3ms/step - loss: 3.7403 - mae: 3.7403\n",
      "Epoch 89/100\n",
      "1/1 [==============================] - 0s 3ms/step - loss: 3.7054 - mae: 3.7054\n",
      "Epoch 90/100\n",
      "1/1 [==============================] - 0s 4ms/step - loss: 3.7128 - mae: 3.7128\n",
      "Epoch 91/100\n",
      "1/1 [==============================] - 0s 3ms/step - loss: 3.7145 - mae: 3.7145\n",
      "Epoch 92/100\n",
      "1/1 [==============================] - 0s 3ms/step - loss: 3.6903 - mae: 3.6903\n",
      "Epoch 93/100\n",
      "1/1 [==============================] - 0s 3ms/step - loss: 3.7299 - mae: 3.7299\n",
      "Epoch 94/100\n",
      "1/1 [==============================] - 0s 3ms/step - loss: 3.6645 - mae: 3.6645\n",
      "Epoch 95/100\n",
      "1/1 [==============================] - 0s 4ms/step - loss: 3.7364 - mae: 3.7364\n",
      "Epoch 96/100\n",
      "1/1 [==============================] - 0s 3ms/step - loss: 3.6735 - mae: 3.6735\n",
      "Epoch 97/100\n",
      "1/1 [==============================] - 0s 4ms/step - loss: 3.7087 - mae: 3.7087\n",
      "Epoch 98/100\n",
      "1/1 [==============================] - 0s 3ms/step - loss: 3.6827 - mae: 3.6827\n",
      "Epoch 99/100\n",
      "1/1 [==============================] - 0s 3ms/step - loss: 3.6808 - mae: 3.6808\n",
      "Epoch 100/100\n",
      "1/1 [==============================] - 0s 3ms/step - loss: 3.6927 - mae: 3.6927\n"
     ]
    },
    {
     "data": {
      "text/plain": [
       "<keras.callbacks.History at 0x2b6c7feb940>"
      ]
     },
     "execution_count": 15,
     "metadata": {},
     "output_type": "execute_result"
    }
   ],
   "source": [
    "# 1. create the mode; using sequental API\n",
    "model = tf.keras.Sequential([\n",
    "    tf.keras.layers.Dense(100, activation='relu'),\n",
    "    tf.keras.layers.Dense(1)\n",
    "])\n",
    "# can also be done like this\n",
    "# model = tf.keras.Sequential()\n",
    "# model.app(tf.keras.layers.Dense(1))\n",
    "\n",
    "# 2. compile the model\n",
    "model.compile(\n",
    "    loss=tf.keras.losses.mae,\n",
    "    optimizer=tf.keras.optimizers.SGD(),\n",
    "    metrics=['mae']\n",
    ")\n",
    "# 3. fit the model\n",
    "model.fit(tf.expand_dims(x, axis=-1), y, epochs=100)"
   ]
  },
  {
   "cell_type": "code",
   "execution_count": 16,
   "metadata": {},
   "outputs": [
    {
     "name": "stdout",
     "output_type": "stream",
     "text": [
      "1/1 [==============================] - 0s 97ms/step\n"
     ]
    },
    {
     "data": {
      "text/plain": [
       "array([[31.727648]], dtype=float32)"
      ]
     },
     "execution_count": 16,
     "metadata": {},
     "output_type": "execute_result"
    }
   ],
   "source": [
    "model.predict([17.0])"
   ]
  },
  {
   "cell_type": "code",
   "execution_count": 17,
   "metadata": {
    "scrolled": true,
    "tags": []
   },
   "outputs": [
    {
     "name": "stdout",
     "output_type": "stream",
     "text": [
      "Epoch 1/100\n",
      "1/1 [==============================] - 0s 330ms/step - loss: 13.3252 - mae: 13.3252\n",
      "Epoch 2/100\n",
      "1/1 [==============================] - 0s 4ms/step - loss: 12.8093 - mae: 12.8093\n",
      "Epoch 3/100\n",
      "1/1 [==============================] - 0s 6ms/step - loss: 12.2911 - mae: 12.2911\n",
      "Epoch 4/100\n",
      "1/1 [==============================] - 0s 3ms/step - loss: 11.7680 - mae: 11.7680\n",
      "Epoch 5/100\n",
      "1/1 [==============================] - 0s 4ms/step - loss: 11.2372 - mae: 11.2372\n",
      "Epoch 6/100\n",
      "1/1 [==============================] - 0s 6ms/step - loss: 10.6959 - mae: 10.6959\n",
      "Epoch 7/100\n",
      "1/1 [==============================] - 0s 4ms/step - loss: 10.1416 - mae: 10.1416\n",
      "Epoch 8/100\n",
      "1/1 [==============================] - 0s 4ms/step - loss: 9.5711 - mae: 9.5711\n",
      "Epoch 9/100\n",
      "1/1 [==============================] - 0s 5ms/step - loss: 8.9817 - mae: 8.9817\n",
      "Epoch 10/100\n",
      "1/1 [==============================] - 0s 5ms/step - loss: 8.3704 - mae: 8.3704\n",
      "Epoch 11/100\n",
      "1/1 [==============================] - 0s 4ms/step - loss: 7.7339 - mae: 7.7339\n",
      "Epoch 12/100\n",
      "1/1 [==============================] - 0s 7ms/step - loss: 7.2082 - mae: 7.2082\n",
      "Epoch 13/100\n",
      "1/1 [==============================] - 0s 4ms/step - loss: 7.1865 - mae: 7.1865\n",
      "Epoch 14/100\n",
      "1/1 [==============================] - 0s 4ms/step - loss: 7.1647 - mae: 7.1647\n",
      "Epoch 15/100\n",
      "1/1 [==============================] - 0s 4ms/step - loss: 7.1430 - mae: 7.1430\n",
      "Epoch 16/100\n",
      "1/1 [==============================] - 0s 5ms/step - loss: 7.1211 - mae: 7.1211\n",
      "Epoch 17/100\n",
      "1/1 [==============================] - 0s 4ms/step - loss: 7.0992 - mae: 7.0992\n",
      "Epoch 18/100\n",
      "1/1 [==============================] - 0s 4ms/step - loss: 7.0772 - mae: 7.0772\n",
      "Epoch 19/100\n",
      "1/1 [==============================] - 0s 4ms/step - loss: 7.0552 - mae: 7.0552\n",
      "Epoch 20/100\n",
      "1/1 [==============================] - 0s 4ms/step - loss: 7.0331 - mae: 7.0331\n",
      "Epoch 21/100\n",
      "1/1 [==============================] - 0s 5ms/step - loss: 7.0109 - mae: 7.0109\n",
      "Epoch 22/100\n",
      "1/1 [==============================] - 0s 4ms/step - loss: 6.9886 - mae: 6.9886\n",
      "Epoch 23/100\n",
      "1/1 [==============================] - 0s 3ms/step - loss: 6.9663 - mae: 6.9663\n",
      "Epoch 24/100\n",
      "1/1 [==============================] - 0s 4ms/step - loss: 6.9439 - mae: 6.9439\n",
      "Epoch 25/100\n",
      "1/1 [==============================] - 0s 4ms/step - loss: 6.9213 - mae: 6.9213\n",
      "Epoch 26/100\n",
      "1/1 [==============================] - 0s 4ms/step - loss: 6.8987 - mae: 6.8987\n",
      "Epoch 27/100\n",
      "1/1 [==============================] - 0s 4ms/step - loss: 6.8760 - mae: 6.8760\n",
      "Epoch 28/100\n",
      "1/1 [==============================] - 0s 4ms/step - loss: 6.8532 - mae: 6.8532\n",
      "Epoch 29/100\n",
      "1/1 [==============================] - 0s 4ms/step - loss: 6.8303 - mae: 6.8303\n",
      "Epoch 30/100\n",
      "1/1 [==============================] - 0s 4ms/step - loss: 6.8073 - mae: 6.8073\n",
      "Epoch 31/100\n",
      "1/1 [==============================] - 0s 3ms/step - loss: 6.7841 - mae: 6.7841\n",
      "Epoch 32/100\n",
      "1/1 [==============================] - 0s 4ms/step - loss: 6.7609 - mae: 6.7609\n",
      "Epoch 33/100\n",
      "1/1 [==============================] - 0s 3ms/step - loss: 6.7375 - mae: 6.7375\n",
      "Epoch 34/100\n",
      "1/1 [==============================] - 0s 3ms/step - loss: 6.7140 - mae: 6.7140\n",
      "Epoch 35/100\n",
      "1/1 [==============================] - 0s 4ms/step - loss: 6.6904 - mae: 6.6904\n",
      "Epoch 36/100\n",
      "1/1 [==============================] - 0s 4ms/step - loss: 6.6666 - mae: 6.6666\n",
      "Epoch 37/100\n",
      "1/1 [==============================] - 0s 4ms/step - loss: 6.6427 - mae: 6.6427\n",
      "Epoch 38/100\n",
      "1/1 [==============================] - 0s 4ms/step - loss: 6.6187 - mae: 6.6187\n",
      "Epoch 39/100\n",
      "1/1 [==============================] - 0s 5ms/step - loss: 6.5945 - mae: 6.5945\n",
      "Epoch 40/100\n",
      "1/1 [==============================] - 0s 5ms/step - loss: 6.5702 - mae: 6.5702\n",
      "Epoch 41/100\n",
      "1/1 [==============================] - 0s 4ms/step - loss: 6.5535 - mae: 6.5535\n",
      "Epoch 42/100\n",
      "1/1 [==============================] - 0s 4ms/step - loss: 6.5402 - mae: 6.5402\n",
      "Epoch 43/100\n",
      "1/1 [==============================] - 0s 4ms/step - loss: 6.5160 - mae: 6.5160\n",
      "Epoch 44/100\n",
      "1/1 [==============================] - 0s 4ms/step - loss: 6.4917 - mae: 6.4917\n",
      "Epoch 45/100\n",
      "1/1 [==============================] - 0s 4ms/step - loss: 6.4671 - mae: 6.4671\n",
      "Epoch 46/100\n",
      "1/1 [==============================] - 0s 3ms/step - loss: 6.4424 - mae: 6.4424\n",
      "Epoch 47/100\n",
      "1/1 [==============================] - 0s 3ms/step - loss: 6.4176 - mae: 6.4176\n",
      "Epoch 48/100\n",
      "1/1 [==============================] - 0s 4ms/step - loss: 6.3925 - mae: 6.3925\n",
      "Epoch 49/100\n",
      "1/1 [==============================] - 0s 3ms/step - loss: 6.3673 - mae: 6.3673\n",
      "Epoch 50/100\n",
      "1/1 [==============================] - 0s 3ms/step - loss: 6.3418 - mae: 6.3418\n",
      "Epoch 51/100\n",
      "1/1 [==============================] - 0s 4ms/step - loss: 6.3162 - mae: 6.3162\n",
      "Epoch 52/100\n",
      "1/1 [==============================] - 0s 3ms/step - loss: 6.2904 - mae: 6.2904\n",
      "Epoch 53/100\n",
      "1/1 [==============================] - 0s 4ms/step - loss: 6.2644 - mae: 6.2644\n",
      "Epoch 54/100\n",
      "1/1 [==============================] - 0s 3ms/step - loss: 6.2382 - mae: 6.2382\n",
      "Epoch 55/100\n",
      "1/1 [==============================] - 0s 4ms/step - loss: 6.2118 - mae: 6.2118\n",
      "Epoch 56/100\n",
      "1/1 [==============================] - 0s 3ms/step - loss: 6.1851 - mae: 6.1851\n",
      "Epoch 57/100\n",
      "1/1 [==============================] - 0s 4ms/step - loss: 6.1583 - mae: 6.1583\n",
      "Epoch 58/100\n",
      "1/1 [==============================] - 0s 4ms/step - loss: 6.1312 - mae: 6.1312\n",
      "Epoch 59/100\n",
      "1/1 [==============================] - 0s 4ms/step - loss: 6.1039 - mae: 6.1039\n",
      "Epoch 60/100\n",
      "1/1 [==============================] - 0s 3ms/step - loss: 6.0763 - mae: 6.0763\n",
      "Epoch 61/100\n",
      "1/1 [==============================] - 0s 4ms/step - loss: 6.0594 - mae: 6.0594\n",
      "Epoch 62/100\n",
      "1/1 [==============================] - 0s 3ms/step - loss: 6.0453 - mae: 6.0453\n",
      "Epoch 63/100\n",
      "1/1 [==============================] - 0s 4ms/step - loss: 6.0177 - mae: 6.0177\n",
      "Epoch 64/100\n",
      "1/1 [==============================] - 0s 3ms/step - loss: 5.9898 - mae: 5.9898\n",
      "Epoch 65/100\n",
      "1/1 [==============================] - 0s 3ms/step - loss: 5.9616 - mae: 5.9616\n",
      "Epoch 66/100\n",
      "1/1 [==============================] - 0s 5ms/step - loss: 5.9332 - mae: 5.9332\n",
      "Epoch 67/100\n",
      "1/1 [==============================] - 0s 5ms/step - loss: 5.9045 - mae: 5.9045\n",
      "Epoch 68/100\n",
      "1/1 [==============================] - 0s 5ms/step - loss: 5.8755 - mae: 5.8755\n",
      "Epoch 69/100\n",
      "1/1 [==============================] - 0s 6ms/step - loss: 5.8463 - mae: 5.8463\n",
      "Epoch 70/100\n",
      "1/1 [==============================] - 0s 4ms/step - loss: 5.8167 - mae: 5.8167\n",
      "Epoch 71/100\n",
      "1/1 [==============================] - 0s 4ms/step - loss: 5.7869 - mae: 5.7869\n",
      "Epoch 72/100\n",
      "1/1 [==============================] - 0s 5ms/step - loss: 5.7568 - mae: 5.7568\n",
      "Epoch 73/100\n",
      "1/1 [==============================] - 0s 3ms/step - loss: 5.7265 - mae: 5.7265\n",
      "Epoch 74/100\n",
      "1/1 [==============================] - 0s 4ms/step - loss: 5.6958 - mae: 5.6958\n",
      "Epoch 75/100\n",
      "1/1 [==============================] - 0s 5ms/step - loss: 5.6648 - mae: 5.6648\n",
      "Epoch 76/100\n",
      "1/1 [==============================] - 0s 4ms/step - loss: 5.6335 - mae: 5.6335\n",
      "Epoch 77/100\n",
      "1/1 [==============================] - 0s 4ms/step - loss: 5.6018 - mae: 5.6018\n",
      "Epoch 78/100\n",
      "1/1 [==============================] - 0s 3ms/step - loss: 5.5922 - mae: 5.5922\n",
      "Epoch 79/100\n",
      "1/1 [==============================] - 0s 6ms/step - loss: 5.5772 - mae: 5.5772\n",
      "Epoch 80/100\n",
      "1/1 [==============================] - 0s 11ms/step - loss: 5.6981 - mae: 5.6981\n",
      "Epoch 81/100\n",
      "1/1 [==============================] - 0s 5ms/step - loss: 5.4992 - mae: 5.4992\n",
      "Epoch 82/100\n",
      "1/1 [==============================] - 0s 7ms/step - loss: 5.4665 - mae: 5.4665\n",
      "Epoch 83/100\n",
      "1/1 [==============================] - 0s 4ms/step - loss: 5.4334 - mae: 5.4334\n",
      "Epoch 84/100\n",
      "1/1 [==============================] - 0s 7ms/step - loss: 5.3999 - mae: 5.3999\n",
      "Epoch 85/100\n",
      "1/1 [==============================] - 0s 5ms/step - loss: 5.3661 - mae: 5.3661\n",
      "Epoch 86/100\n",
      "1/1 [==============================] - 0s 5ms/step - loss: 5.3319 - mae: 5.3319\n",
      "Epoch 87/100\n",
      "1/1 [==============================] - 0s 8ms/step - loss: 5.2973 - mae: 5.2973\n",
      "Epoch 88/100\n",
      "1/1 [==============================] - 0s 9ms/step - loss: 5.2624 - mae: 5.2624\n",
      "Epoch 89/100\n",
      "1/1 [==============================] - 0s 6ms/step - loss: 5.2346 - mae: 5.2346\n",
      "Epoch 90/100\n",
      "1/1 [==============================] - 0s 3ms/step - loss: 5.3011 - mae: 5.3011\n",
      "Epoch 91/100\n",
      "1/1 [==============================] - 0s 5ms/step - loss: 5.3440 - mae: 5.3440\n",
      "Epoch 92/100\n",
      "1/1 [==============================] - 0s 4ms/step - loss: 5.1487 - mae: 5.1487\n",
      "Epoch 93/100\n",
      "1/1 [==============================] - 0s 7ms/step - loss: 5.1123 - mae: 5.1123\n",
      "Epoch 94/100\n",
      "1/1 [==============================] - 0s 5ms/step - loss: 5.0755 - mae: 5.0755\n",
      "Epoch 95/100\n",
      "1/1 [==============================] - 0s 4ms/step - loss: 5.0383 - mae: 5.0383\n",
      "Epoch 96/100\n",
      "1/1 [==============================] - 0s 5ms/step - loss: 5.0006 - mae: 5.0006\n",
      "Epoch 97/100\n",
      "1/1 [==============================] - 0s 4ms/step - loss: 4.9625 - mae: 4.9625\n",
      "Epoch 98/100\n",
      "1/1 [==============================] - 0s 5ms/step - loss: 4.9240 - mae: 4.9240\n",
      "Epoch 99/100\n",
      "1/1 [==============================] - 0s 4ms/step - loss: 4.8850 - mae: 4.8850\n",
      "Epoch 100/100\n",
      "1/1 [==============================] - 0s 4ms/step - loss: 4.8578 - mae: 4.8578\n"
     ]
    },
    {
     "data": {
      "text/plain": [
       "<keras.callbacks.History at 0x2b6c936de80>"
      ]
     },
     "execution_count": 17,
     "metadata": {},
     "output_type": "execute_result"
    }
   ],
   "source": [
    "# 1. create the mode; using sequental API\n",
    "model = tf.keras.Sequential([\n",
    "    tf.keras.layers.Dense(50, activation=None),\n",
    "    tf.keras.layers.Dense(1)\n",
    "])\n",
    "# can also be done like this\n",
    "# model = tf.keras.Sequential()\n",
    "# model.app(tf.keras.layers.Dense(1))\n",
    "\n",
    "# 2. compile the model\n",
    "model.compile(\n",
    "    loss=tf.keras.losses.mae,\n",
    "    optimizer=tf.keras.optimizers.SGD(),\n",
    "    metrics=['mae']\n",
    ")\n",
    "# 3. fit the model\n",
    "model.fit(tf.expand_dims(x, axis=-1), y, epochs=100)"
   ]
  },
  {
   "cell_type": "code",
   "execution_count": 18,
   "metadata": {},
   "outputs": [
    {
     "name": "stdout",
     "output_type": "stream",
     "text": [
      "1/1 [==============================] - 0s 67ms/step\n"
     ]
    },
    {
     "data": {
      "text/plain": [
       "array([[27.75227]], dtype=float32)"
      ]
     },
     "execution_count": 18,
     "metadata": {},
     "output_type": "execute_result"
    }
   ],
   "source": [
    "model.predict([17.0])"
   ]
  },
  {
   "cell_type": "code",
   "execution_count": 19,
   "metadata": {
    "scrolled": true,
    "tags": []
   },
   "outputs": [
    {
     "name": "stdout",
     "output_type": "stream",
     "text": [
      "Epoch 1/100\n"
     ]
    },
    {
     "name": "stderr",
     "output_type": "stream",
     "text": [
      "C:\\Users\\Anthony\\anaconda3\\lib\\site-packages\\keras\\optimizers\\optimizer_v2\\adam.py:110: UserWarning: The `lr` argument is deprecated, use `learning_rate` instead.\n",
      "  super(Adam, self).__init__(name, **kwargs)\n"
     ]
    },
    {
     "name": "stdout",
     "output_type": "stream",
     "text": [
      "1/1 [==============================] - 1s 569ms/step - loss: 4.9712 - mae: 4.9712\n",
      "Epoch 2/100\n",
      "1/1 [==============================] - 0s 6ms/step - loss: 4.9621 - mae: 4.9621\n",
      "Epoch 3/100\n",
      "1/1 [==============================] - 0s 4ms/step - loss: 4.9531 - mae: 4.9531\n",
      "Epoch 4/100\n",
      "1/1 [==============================] - 0s 5ms/step - loss: 4.9441 - mae: 4.9441\n",
      "Epoch 5/100\n",
      "1/1 [==============================] - 0s 4ms/step - loss: 4.9350 - mae: 4.9350\n",
      "Epoch 6/100\n",
      "1/1 [==============================] - 0s 4ms/step - loss: 4.9260 - mae: 4.9260\n",
      "Epoch 7/100\n",
      "1/1 [==============================] - 0s 4ms/step - loss: 4.9169 - mae: 4.9169\n",
      "Epoch 8/100\n",
      "1/1 [==============================] - 0s 4ms/step - loss: 4.9079 - mae: 4.9079\n",
      "Epoch 9/100\n",
      "1/1 [==============================] - 0s 3ms/step - loss: 4.8988 - mae: 4.8988\n",
      "Epoch 10/100\n",
      "1/1 [==============================] - 0s 4ms/step - loss: 4.8898 - mae: 4.8898\n",
      "Epoch 11/100\n",
      "1/1 [==============================] - 0s 3ms/step - loss: 4.8808 - mae: 4.8808\n",
      "Epoch 12/100\n",
      "1/1 [==============================] - 0s 4ms/step - loss: 4.8717 - mae: 4.8717\n",
      "Epoch 13/100\n",
      "1/1 [==============================] - 0s 5ms/step - loss: 4.8627 - mae: 4.8627\n",
      "Epoch 14/100\n",
      "1/1 [==============================] - 0s 3ms/step - loss: 4.8536 - mae: 4.8536\n",
      "Epoch 15/100\n",
      "1/1 [==============================] - 0s 5ms/step - loss: 4.8445 - mae: 4.8445\n",
      "Epoch 16/100\n",
      "1/1 [==============================] - 0s 4ms/step - loss: 4.8355 - mae: 4.8355\n",
      "Epoch 17/100\n",
      "1/1 [==============================] - 0s 4ms/step - loss: 4.8264 - mae: 4.8264\n",
      "Epoch 18/100\n",
      "1/1 [==============================] - 0s 4ms/step - loss: 4.8187 - mae: 4.8187\n",
      "Epoch 19/100\n",
      "1/1 [==============================] - 0s 4ms/step - loss: 4.8174 - mae: 4.8174\n",
      "Epoch 20/100\n",
      "1/1 [==============================] - 0s 3ms/step - loss: 4.8161 - mae: 4.8161\n",
      "Epoch 21/100\n",
      "1/1 [==============================] - 0s 3ms/step - loss: 4.8148 - mae: 4.8148\n",
      "Epoch 22/100\n",
      "1/1 [==============================] - 0s 3ms/step - loss: 4.8135 - mae: 4.8135\n",
      "Epoch 23/100\n",
      "1/1 [==============================] - 0s 4ms/step - loss: 4.8123 - mae: 4.8123\n",
      "Epoch 24/100\n",
      "1/1 [==============================] - 0s 4ms/step - loss: 4.8110 - mae: 4.8110\n",
      "Epoch 25/100\n",
      "1/1 [==============================] - 0s 3ms/step - loss: 4.8098 - mae: 4.8098\n",
      "Epoch 26/100\n",
      "1/1 [==============================] - 0s 3ms/step - loss: 4.8085 - mae: 4.8085\n",
      "Epoch 27/100\n",
      "1/1 [==============================] - 0s 4ms/step - loss: 4.8073 - mae: 4.8073\n",
      "Epoch 28/100\n",
      "1/1 [==============================] - 0s 3ms/step - loss: 4.8061 - mae: 4.8061\n",
      "Epoch 29/100\n",
      "1/1 [==============================] - 0s 3ms/step - loss: 4.8049 - mae: 4.8049\n",
      "Epoch 30/100\n",
      "1/1 [==============================] - 0s 3ms/step - loss: 4.8036 - mae: 4.8036\n",
      "Epoch 31/100\n",
      "1/1 [==============================] - 0s 3ms/step - loss: 4.8024 - mae: 4.8024\n",
      "Epoch 32/100\n",
      "1/1 [==============================] - 0s 3ms/step - loss: 4.8012 - mae: 4.8012\n",
      "Epoch 33/100\n",
      "1/1 [==============================] - 0s 4ms/step - loss: 4.8000 - mae: 4.8000\n",
      "Epoch 34/100\n",
      "1/1 [==============================] - 0s 3ms/step - loss: 4.7988 - mae: 4.7988\n",
      "Epoch 35/100\n",
      "1/1 [==============================] - 0s 3ms/step - loss: 4.7976 - mae: 4.7976\n",
      "Epoch 36/100\n",
      "1/1 [==============================] - 0s 4ms/step - loss: 4.7964 - mae: 4.7964\n",
      "Epoch 37/100\n",
      "1/1 [==============================] - 0s 3ms/step - loss: 4.7952 - mae: 4.7952\n",
      "Epoch 38/100\n",
      "1/1 [==============================] - 0s 3ms/step - loss: 4.7940 - mae: 4.7940\n",
      "Epoch 39/100\n",
      "1/1 [==============================] - 0s 3ms/step - loss: 4.7928 - mae: 4.7928\n",
      "Epoch 40/100\n",
      "1/1 [==============================] - 0s 3ms/step - loss: 4.7916 - mae: 4.7916\n",
      "Epoch 41/100\n",
      "1/1 [==============================] - 0s 3ms/step - loss: 4.7903 - mae: 4.7903\n",
      "Epoch 42/100\n",
      "1/1 [==============================] - 0s 4ms/step - loss: 4.7891 - mae: 4.7891\n",
      "Epoch 43/100\n",
      "1/1 [==============================] - 0s 5ms/step - loss: 4.7879 - mae: 4.7879\n",
      "Epoch 44/100\n",
      "1/1 [==============================] - 0s 5ms/step - loss: 4.7867 - mae: 4.7867\n",
      "Epoch 45/100\n",
      "1/1 [==============================] - 0s 4ms/step - loss: 4.7855 - mae: 4.7855\n",
      "Epoch 46/100\n",
      "1/1 [==============================] - 0s 4ms/step - loss: 4.7843 - mae: 4.7843\n",
      "Epoch 47/100\n",
      "1/1 [==============================] - 0s 4ms/step - loss: 4.7831 - mae: 4.7831\n",
      "Epoch 48/100\n",
      "1/1 [==============================] - 0s 5ms/step - loss: 4.7819 - mae: 4.7819\n",
      "Epoch 49/100\n",
      "1/1 [==============================] - 0s 5ms/step - loss: 4.7806 - mae: 4.7806\n",
      "Epoch 50/100\n",
      "1/1 [==============================] - 0s 4ms/step - loss: 4.7794 - mae: 4.7794\n",
      "Epoch 51/100\n",
      "1/1 [==============================] - 0s 5ms/step - loss: 4.7782 - mae: 4.7782\n",
      "Epoch 52/100\n",
      "1/1 [==============================] - 0s 4ms/step - loss: 4.7770 - mae: 4.7770\n",
      "Epoch 53/100\n",
      "1/1 [==============================] - 0s 3ms/step - loss: 4.7757 - mae: 4.7757\n",
      "Epoch 54/100\n",
      "1/1 [==============================] - 0s 4ms/step - loss: 4.7745 - mae: 4.7745\n",
      "Epoch 55/100\n",
      "1/1 [==============================] - 0s 4ms/step - loss: 4.7733 - mae: 4.7733\n",
      "Epoch 56/100\n",
      "1/1 [==============================] - 0s 3ms/step - loss: 4.7720 - mae: 4.7720\n",
      "Epoch 57/100\n",
      "1/1 [==============================] - 0s 3ms/step - loss: 4.7708 - mae: 4.7708\n",
      "Epoch 58/100\n",
      "1/1 [==============================] - 0s 4ms/step - loss: 4.7695 - mae: 4.7695\n",
      "Epoch 59/100\n",
      "1/1 [==============================] - 0s 3ms/step - loss: 4.7683 - mae: 4.7683\n",
      "Epoch 60/100\n",
      "1/1 [==============================] - 0s 3ms/step - loss: 4.7670 - mae: 4.7670\n",
      "Epoch 61/100\n",
      "1/1 [==============================] - 0s 3ms/step - loss: 4.7658 - mae: 4.7658\n",
      "Epoch 62/100\n",
      "1/1 [==============================] - 0s 4ms/step - loss: 4.7645 - mae: 4.7645\n",
      "Epoch 63/100\n",
      "1/1 [==============================] - 0s 5ms/step - loss: 4.7633 - mae: 4.7633\n",
      "Epoch 64/100\n",
      "1/1 [==============================] - 0s 4ms/step - loss: 4.7620 - mae: 4.7620\n",
      "Epoch 65/100\n",
      "1/1 [==============================] - 0s 5ms/step - loss: 4.7608 - mae: 4.7608\n",
      "Epoch 66/100\n",
      "1/1 [==============================] - 0s 4ms/step - loss: 4.7595 - mae: 4.7595\n",
      "Epoch 67/100\n",
      "1/1 [==============================] - 0s 4ms/step - loss: 4.7582 - mae: 4.7582\n",
      "Epoch 68/100\n",
      "1/1 [==============================] - 0s 4ms/step - loss: 4.7570 - mae: 4.7570\n",
      "Epoch 69/100\n",
      "1/1 [==============================] - 0s 3ms/step - loss: 4.7557 - mae: 4.7557\n",
      "Epoch 70/100\n",
      "1/1 [==============================] - 0s 4ms/step - loss: 4.7544 - mae: 4.7544\n",
      "Epoch 71/100\n",
      "1/1 [==============================] - 0s 3ms/step - loss: 4.7531 - mae: 4.7531\n",
      "Epoch 72/100\n",
      "1/1 [==============================] - 0s 4ms/step - loss: 4.7519 - mae: 4.7519\n",
      "Epoch 73/100\n",
      "1/1 [==============================] - 0s 3ms/step - loss: 4.7506 - mae: 4.7506\n",
      "Epoch 74/100\n",
      "1/1 [==============================] - 0s 3ms/step - loss: 4.7493 - mae: 4.7493\n",
      "Epoch 75/100\n",
      "1/1 [==============================] - 0s 4ms/step - loss: 4.7480 - mae: 4.7480\n",
      "Epoch 76/100\n",
      "1/1 [==============================] - 0s 3ms/step - loss: 4.7467 - mae: 4.7467\n",
      "Epoch 77/100\n",
      "1/1 [==============================] - 0s 3ms/step - loss: 4.7454 - mae: 4.7454\n",
      "Epoch 78/100\n",
      "1/1 [==============================] - 0s 3ms/step - loss: 4.7441 - mae: 4.7441\n",
      "Epoch 79/100\n",
      "1/1 [==============================] - 0s 3ms/step - loss: 4.7428 - mae: 4.7428\n",
      "Epoch 80/100\n",
      "1/1 [==============================] - 0s 4ms/step - loss: 4.7415 - mae: 4.7415\n",
      "Epoch 81/100\n",
      "1/1 [==============================] - 0s 4ms/step - loss: 4.7402 - mae: 4.7402\n",
      "Epoch 82/100\n",
      "1/1 [==============================] - 0s 3ms/step - loss: 4.7389 - mae: 4.7389\n",
      "Epoch 83/100\n",
      "1/1 [==============================] - 0s 4ms/step - loss: 4.7376 - mae: 4.7376\n",
      "Epoch 84/100\n",
      "1/1 [==============================] - 0s 3ms/step - loss: 4.7363 - mae: 4.7363\n",
      "Epoch 85/100\n",
      "1/1 [==============================] - 0s 4ms/step - loss: 4.7350 - mae: 4.7350\n",
      "Epoch 86/100\n",
      "1/1 [==============================] - 0s 3ms/step - loss: 4.7337 - mae: 4.7337\n",
      "Epoch 87/100\n",
      "1/1 [==============================] - 0s 3ms/step - loss: 4.7324 - mae: 4.7324\n",
      "Epoch 88/100\n",
      "1/1 [==============================] - 0s 3ms/step - loss: 4.7311 - mae: 4.7311\n",
      "Epoch 89/100\n",
      "1/1 [==============================] - 0s 3ms/step - loss: 4.7298 - mae: 4.7298\n",
      "Epoch 90/100\n",
      "1/1 [==============================] - 0s 3ms/step - loss: 4.7284 - mae: 4.7284\n",
      "Epoch 91/100\n",
      "1/1 [==============================] - 0s 3ms/step - loss: 4.7271 - mae: 4.7271\n",
      "Epoch 92/100\n",
      "1/1 [==============================] - 0s 3ms/step - loss: 4.7258 - mae: 4.7258\n",
      "Epoch 93/100\n",
      "1/1 [==============================] - 0s 3ms/step - loss: 4.7245 - mae: 4.7245\n",
      "Epoch 94/100\n",
      "1/1 [==============================] - 0s 3ms/step - loss: 4.7231 - mae: 4.7231\n",
      "Epoch 95/100\n",
      "1/1 [==============================] - 0s 3ms/step - loss: 4.7218 - mae: 4.7218\n",
      "Epoch 96/100\n",
      "1/1 [==============================] - 0s 3ms/step - loss: 4.7205 - mae: 4.7205\n",
      "Epoch 97/100\n",
      "1/1 [==============================] - 0s 4ms/step - loss: 4.7191 - mae: 4.7191\n",
      "Epoch 98/100\n",
      "1/1 [==============================] - 0s 3ms/step - loss: 4.7178 - mae: 4.7178\n",
      "Epoch 99/100\n",
      "1/1 [==============================] - 0s 3ms/step - loss: 4.7165 - mae: 4.7165\n",
      "Epoch 100/100\n",
      "1/1 [==============================] - 0s 4ms/step - loss: 4.7151 - mae: 4.7151\n"
     ]
    },
    {
     "data": {
      "text/plain": [
       "<keras.callbacks.History at 0x2b6c9444790>"
      ]
     },
     "execution_count": 19,
     "metadata": {},
     "output_type": "execute_result"
    }
   ],
   "source": [
    "model.compile(\n",
    "    loss=tf.keras.losses.mae,\n",
    "    optimizer=tf.keras.optimizers.Adam(lr=.0001),\n",
    "    metrics=['mae']\n",
    ")\n",
    "# 3. fit the model\n",
    "model.fit(tf.expand_dims(x, axis=-1), y, epochs=100)"
   ]
  },
  {
   "cell_type": "code",
   "execution_count": 20,
   "metadata": {},
   "outputs": [
    {
     "name": "stdout",
     "output_type": "stream",
     "text": [
      "1/1 [==============================] - 0s 83ms/step\n"
     ]
    },
    {
     "data": {
      "text/plain": [
       "array([[28.949202]], dtype=float32)"
      ]
     },
     "execution_count": 20,
     "metadata": {},
     "output_type": "execute_result"
    }
   ],
   "source": [
    "model.predict([17.0])"
   ]
  },
  {
   "cell_type": "code",
   "execution_count": null,
   "metadata": {},
   "outputs": [],
   "source": []
  }
 ],
 "metadata": {
  "kernelspec": {
   "display_name": "Python 3 (ipykernel)",
   "language": "python",
   "name": "python3"
  },
  "language_info": {
   "codemirror_mode": {
    "name": "ipython",
    "version": 3
   },
   "file_extension": ".py",
   "mimetype": "text/x-python",
   "name": "python",
   "nbconvert_exporter": "python",
   "pygments_lexer": "ipython3",
   "version": "3.9.7"
  }
 },
 "nbformat": 4,
 "nbformat_minor": 4
}
